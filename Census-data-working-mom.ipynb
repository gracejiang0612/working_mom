{
 "cells": [
  {
   "cell_type": "code",
   "execution_count": 1,
   "id": "d3beadb1-a2b1-40f0-9d95-e120af1af8db",
   "metadata": {},
   "outputs": [],
   "source": [
    "%load_ext rpy2.ipython\n",
    "%load_ext autoreload\n",
    "%autoreload 2\n",
    "\n",
    "%matplotlib inline  \n",
    "from matplotlib import rcParams\n",
    "rcParams['figure.figsize'] = (16, 100)\n",
    "\n",
    "import warnings\n",
    "from rpy2.rinterface import RRuntimeWarning\n",
    "warnings.filterwarnings(\"ignore\") # Ignore all warnings\n",
    "# warnings.filterwarnings(\"ignore\", category=RRuntimeWarning) # Show some warnings\n",
    "\n",
    "import pandas as pd\n",
    "import numpy as np\n",
    "import matplotlib.pyplot as plt\n",
    "from IPython.display import display, HTML"
   ]
  },
  {
   "cell_type": "code",
   "execution_count": 2,
   "id": "f1134127-63dc-4400-8266-2e178545e7b3",
   "metadata": {},
   "outputs": [
    {
     "data": {
      "application/javascript": [
       "// Disable auto-scrolling\n",
       "IPython.OutputArea.prototype._should_scroll = function(lines) {\n",
       "    return false;\n",
       "}\n"
      ],
      "text/plain": [
       "<IPython.core.display.Javascript object>"
      ]
     },
     "metadata": {},
     "output_type": "display_data"
    }
   ],
   "source": [
    "%%javascript\n",
    "// Disable auto-scrolling\n",
    "IPython.OutputArea.prototype._should_scroll = function(lines) {\n",
    "    return false;\n",
    "}"
   ]
  },
  {
   "cell_type": "code",
   "execution_count": 3,
   "id": "bee5aa58-39db-458c-8243-ee2d48bea58b",
   "metadata": {},
   "outputs": [
    {
     "name": "stdout",
     "output_type": "stream",
     "text": [
      "── Attaching core tidyverse packages ──────────────────────── tidyverse 2.0.0 ──\n",
      "✔ dplyr     1.1.4     ✔ readr     2.1.5\n",
      "✔ forcats   1.0.0     ✔ stringr   1.5.1\n",
      "✔ ggplot2   3.5.1     ✔ tibble    3.2.1\n",
      "✔ lubridate 1.9.4     ✔ tidyr     1.3.1\n",
      "✔ purrr     1.0.4     \n",
      "── Conflicts ────────────────────────────────────────── tidyverse_conflicts() ──\n",
      "✖ dplyr::filter() masks stats::filter()\n",
      "✖ dplyr::lag()    masks stats::lag()\n",
      "ℹ Use the conflicted package (<http://conflicted.r-lib.org/>) to force all conflicts to become errors\n"
     ]
    },
    {
     "data": {
      "text/plain": [
       "Loading required package: tidyverse\n"
      ]
     },
     "metadata": {},
     "output_type": "display_data"
    }
   ],
   "source": [
    "%%R\n",
    "\n",
    "# My commonly used R imports\n",
    "\n",
    "require('tidyverse')"
   ]
  },
  {
   "cell_type": "code",
   "execution_count": 4,
   "id": "2fce3a1e-74f0-4610-b7c6-b34695397974",
   "metadata": {},
   "outputs": [
    {
     "data": {
      "text/plain": [
       "True"
      ]
     },
     "execution_count": 4,
     "metadata": {},
     "output_type": "execute_result"
    }
   ],
   "source": [
    "import dotenv\n",
    "\n",
    "# Load the environment variables\n",
    "# (loads CENSUS_API_KEY from .env)\n",
    "dotenv.load_dotenv()"
   ]
  },
  {
   "cell_type": "code",
   "execution_count": 5,
   "id": "0b542baf-eb21-46ac-9d72-11fbb82403f8",
   "metadata": {},
   "outputs": [
    {
     "name": "stdout",
     "output_type": "stream",
     "text": [
      "# A tibble: 6 × 6\n",
      "  year  GEOID NAME          variable                    estimate   moe\n",
      "  <chr> <chr> <chr>         <chr>                          <dbl> <dbl>\n",
      "1 1     1     United States working-mom-under6yos        7630279 42339\n",
      "2 1     1     United States non-working-mom-under6yos    2240222 26373\n",
      "3 1     1     United States working-mom-6yosto17yos     19150433 51164\n",
      "4 1     1     United States non-working-mom-6yosto17yos  4461443 39847\n",
      "5 1     1     United States working-women               44442667 82063\n",
      "6 1     1     United States non-working-women            2451225 26495\n"
     ]
    },
    {
     "data": {
      "text/plain": [
       "Getting data from the 2015 1-year ACS\n",
       "The 1-year ACS provides data for geographies with populations of 65,000 and greater.\n",
       "Getting data from the 2016 1-year ACS\n",
       "The 1-year ACS provides data for geographies with populations of 65,000 and greater.\n",
       "Getting data from the 2017 1-year ACS\n",
       "The 1-year ACS provides data for geographies with populations of 65,000 and greater.\n",
       "Getting data from the 2018 1-year ACS\n",
       "The 1-year ACS provides data for geographies with populations of 65,000 and greater.\n",
       "Getting data from the 2019 1-year ACS\n",
       "The 1-year ACS provides data for geographies with populations of 65,000 and greater.\n",
       "Getting data from the 2021 1-year ACS\n",
       "The 1-year ACS provides data for geographies with populations of 65,000 and greater.\n",
       "Getting data from the 2022 1-year ACS\n",
       "The 1-year ACS provides data for geographies with populations of 65,000 and greater.\n",
       "Getting data from the 2023 1-year ACS\n",
       "The 1-year ACS provides data for geographies with populations of 65,000 and greater.\n"
      ]
     },
     "metadata": {},
     "output_type": "display_data"
    }
   ],
   "source": [
    "%%R\n",
    "\n",
    "library(tidycensus)\n",
    "library(tidyverse)\n",
    "\n",
    "# Skip 2020 since regular 1-year ACS data is not available for that year\n",
    "years <- c(2015:2019, 2021:2023)                  \n",
    "vars  <- c(\n",
    "  \"working-mom-under6yos\" = \"B23003_003\",\n",
    "  \"non-working-mom-under6yos\" = \"B23003_009\",\n",
    "  \"working-mom-6yosto17yos\" = \"B23003_017\",\n",
    "  \"non-working-mom-6yosto17yos\" = \"B23003_023\",\n",
    "  \"working-women\" = \"B23003_025\",\n",
    "  \"non-working-women\" = \"B23003_029\"\n",
    ")  \n",
    "\n",
    "# Get variable from ACS\n",
    "multi_acs <- map_dfr(                    # one row-bind per year\n",
    "  years,\n",
    "  ~get_acs(\n",
    "    geography = \"us\",\n",
    "    variables = vars,\n",
    "    year = .x,\n",
    "    survey = \"acs1\",\n",
    "    geometry = FALSE\n",
    "  ),\n",
    "  .id = \"year\"\n",
    ")\n",
    "\n",
    "# Display the resulting data\n",
    "head(multi_acs)"
   ]
  },
  {
   "cell_type": "code",
   "execution_count": 6,
   "id": "ad3a49b1-2816-4cac-bd51-251b9040bf6d",
   "metadata": {},
   "outputs": [
    {
     "name": "stdout",
     "output_type": "stream",
     "text": [
      "# A tibble: 8 × 15\n",
      "  year  GEOID NAME          working-mom-under6yos_estim…¹ non-working-mom-unde…²\n",
      "  <chr> <chr> <chr>                                 <dbl>                  <dbl>\n",
      "1 1     1     United States                       7630279                2240222\n",
      "2 2     1     United States                       7570447                2179535\n",
      "3 3     1     United States                       7510145                2146461\n",
      "4 4     1     United States                       7471116                2090499\n",
      "5 5     1     United States                       7307933                1980176\n",
      "6 6     1     United States                       7173770                1960309\n",
      "7 7     1     United States                       7129347                1893955\n",
      "8 8     1     United States                       7164382                1815925\n",
      "# ℹ abbreviated names: ¹​`working-mom-under6yos_estimate`,\n",
      "#   ²​`non-working-mom-under6yos_estimate`\n",
      "# ℹ 10 more variables: `working-mom-6yosto17yos_estimate` <dbl>,\n",
      "#   `non-working-mom-6yosto17yos_estimate` <dbl>,\n",
      "#   `working-women_estimate` <dbl>, `non-working-women_estimate` <dbl>,\n",
      "#   `working-mom-under6yos_moe` <dbl>, `non-working-mom-under6yos_moe` <dbl>,\n",
      "#   `working-mom-6yosto17yos_moe` <dbl>, …\n"
     ]
    }
   ],
   "source": [
    "%%R \n",
    "\n",
    "multi_acs <- multi_acs %>% \n",
    "  # pivot from wide to long\n",
    "  pivot_wider(\n",
    "    names_from=variable, \n",
    "    values_from = c(estimate, moe),\n",
    "    names_glue = \"{variable}_{.value}\"\n",
    "  )\n",
    "\n",
    "multi_acs"
   ]
  },
  {
   "cell_type": "code",
   "execution_count": 7,
   "id": "27ebc14d-038a-4b51-8e20-57875bf14cd9",
   "metadata": {},
   "outputs": [
    {
     "name": "stdout",
     "output_type": "stream",
     "text": [
      " [1] \"year\"                                \n",
      " [2] \"GEOID\"                               \n",
      " [3] \"NAME\"                                \n",
      " [4] \"working-mom-under6yos_estimate\"      \n",
      " [5] \"non-working-mom-under6yos_estimate\"  \n",
      " [6] \"working-mom-6yosto17yos_estimate\"    \n",
      " [7] \"non-working-mom-6yosto17yos_estimate\"\n",
      " [8] \"working-women_estimate\"              \n",
      " [9] \"non-working-women_estimate\"          \n",
      "[10] \"working-mom-under6yos_moe\"           \n",
      "[11] \"non-working-mom-under6yos_moe\"       \n",
      "[12] \"working-mom-6yosto17yos_moe\"         \n",
      "[13] \"non-working-mom-6yosto17yos_moe\"     \n",
      "[14] \"working-women_moe\"                   \n",
      "[15] \"non-working-women_moe\"               \n"
     ]
    }
   ],
   "source": [
    "%%R \n",
    "\n",
    "colnames(multi_acs)"
   ]
  },
  {
   "cell_type": "code",
   "execution_count": 15,
   "id": "7d558ae9-af5c-4762-97ab-6b8ce9936cc4",
   "metadata": {},
   "outputs": [
    {
     "name": "stdout",
     "output_type": "stream",
     "text": [
      "# A tibble: 6 × 16\n",
      "  year  GEOID NAME          working-mom-under6yos_estim…¹ non-working-mom-unde…²\n",
      "  <chr> <chr> <chr>                                 <dbl>                  <dbl>\n",
      "1 1     1     United States                       7630279                2240222\n",
      "2 2     1     United States                       7570447                2179535\n",
      "3 3     1     United States                       7510145                2146461\n",
      "4 4     1     United States                       7471116                2090499\n",
      "5 5     1     United States                       7307933                1980176\n",
      "6 6     1     United States                       7173770                1960309\n",
      "# ℹ abbreviated names: ¹​`working-mom-under6yos_estimate`,\n",
      "#   ²​`non-working-mom-under6yos_estimate`\n",
      "# ℹ 11 more variables: `working-mom-6yosto17yos_estimate` <dbl>,\n",
      "#   `non-working-mom-6yosto17yos_estimate` <dbl>,\n",
      "#   `working-women_estimate` <dbl>, `non-working-women_estimate` <dbl>,\n",
      "#   `working-mom-under6yos_moe` <dbl>, `non-working-mom-under6yos_moe` <dbl>,\n",
      "#   `working-mom-6yosto17yos_moe` <dbl>, …\n"
     ]
    }
   ],
   "source": [
    "%%R\n",
    "multi_acs %>%\n",
    "   mutate(\n",
    "        mom_estimate = `working-mom-under6yos_estimate`\n",
    "      ) %>% \n",
    "    head()"
   ]
  },
  {
   "cell_type": "code",
   "execution_count": 9,
   "id": "777e3a90-e6e8-40f9-bdfe-7ce824ab2892",
   "metadata": {},
   "outputs": [
    {
     "ename": "RParsingError",
     "evalue": "Parsing status not OK - PARSING_STATUS.PARSE_ERROR",
     "output_type": "error",
     "traceback": [
      "\u001b[0;31m---------------------------------------------------------------------------\u001b[0m",
      "\u001b[0;31mRParsingError\u001b[0m                             Traceback (most recent call last)",
      "Cell \u001b[0;32mIn[9], line 1\u001b[0m\n\u001b[0;32m----> 1\u001b[0m \u001b[43mget_ipython\u001b[49m\u001b[43m(\u001b[49m\u001b[43m)\u001b[49m\u001b[38;5;241;43m.\u001b[39;49m\u001b[43mrun_cell_magic\u001b[49m\u001b[43m(\u001b[49m\u001b[38;5;124;43m'\u001b[39;49m\u001b[38;5;124;43mR\u001b[39;49m\u001b[38;5;124;43m'\u001b[39;49m\u001b[43m,\u001b[49m\u001b[43m \u001b[49m\u001b[38;5;124;43m'\u001b[39;49m\u001b[38;5;124;43m'\u001b[39;49m\u001b[43m,\u001b[49m\u001b[43m \u001b[49m\u001b[38;5;124;43m'\u001b[39;49m\u001b[38;5;124;43mmulti_acs <- multi_acs \u001b[39;49m\u001b[38;5;124;43m%\u001b[39;49m\u001b[38;5;124;43m>\u001b[39;49m\u001b[38;5;124;43m%\u001b[39;49m\u001b[38;5;130;43;01m\\n\u001b[39;49;00m\u001b[38;5;124;43m   mutate(\u001b[39;49m\u001b[38;5;130;43;01m\\n\u001b[39;49;00m\u001b[38;5;124;43m        working-mom_estimate = working-mom-under6yos_estimate + working-mom-6yosto17yos_estimate - non-working-mom-under6yos_estimate - non-working-mom-6yosto17yos_estimate,\u001b[39;49m\u001b[38;5;130;43;01m\\n\u001b[39;49;00m\u001b[38;5;124;43m        working-women-total_estimate = working-women_estimate - non-working-women_estimate\u001b[39;49m\u001b[38;5;130;43;01m\\n\u001b[39;49;00m\u001b[38;5;124;43m       \u001b[39;49m\u001b[38;5;130;43;01m\\n\u001b[39;49;00m\u001b[38;5;124;43m      )\u001b[39;49m\u001b[38;5;130;43;01m\\n\u001b[39;49;00m\u001b[38;5;124;43m'\u001b[39;49m\u001b[43m)\u001b[49m\n",
      "File \u001b[0;32m~/.pyenv/versions/3.12.7/lib/python3.12/site-packages/IPython/core/interactiveshell.py:2543\u001b[0m, in \u001b[0;36mInteractiveShell.run_cell_magic\u001b[0;34m(self, magic_name, line, cell)\u001b[0m\n\u001b[1;32m   2541\u001b[0m \u001b[38;5;28;01mwith\u001b[39;00m \u001b[38;5;28mself\u001b[39m\u001b[38;5;241m.\u001b[39mbuiltin_trap:\n\u001b[1;32m   2542\u001b[0m     args \u001b[38;5;241m=\u001b[39m (magic_arg_s, cell)\n\u001b[0;32m-> 2543\u001b[0m     result \u001b[38;5;241m=\u001b[39m \u001b[43mfn\u001b[49m\u001b[43m(\u001b[49m\u001b[38;5;241;43m*\u001b[39;49m\u001b[43margs\u001b[49m\u001b[43m,\u001b[49m\u001b[43m \u001b[49m\u001b[38;5;241;43m*\u001b[39;49m\u001b[38;5;241;43m*\u001b[39;49m\u001b[43mkwargs\u001b[49m\u001b[43m)\u001b[49m\n\u001b[1;32m   2545\u001b[0m \u001b[38;5;66;03m# The code below prevents the output from being displayed\u001b[39;00m\n\u001b[1;32m   2546\u001b[0m \u001b[38;5;66;03m# when using magics with decorator @output_can_be_silenced\u001b[39;00m\n\u001b[1;32m   2547\u001b[0m \u001b[38;5;66;03m# when the last Python token in the expression is a ';'.\u001b[39;00m\n\u001b[1;32m   2548\u001b[0m \u001b[38;5;28;01mif\u001b[39;00m \u001b[38;5;28mgetattr\u001b[39m(fn, magic\u001b[38;5;241m.\u001b[39mMAGIC_OUTPUT_CAN_BE_SILENCED, \u001b[38;5;28;01mFalse\u001b[39;00m):\n",
      "File \u001b[0;32m~/.pyenv/versions/3.12.7/lib/python3.12/site-packages/rpy2/ipython/rmagic.py:949\u001b[0m, in \u001b[0;36mRMagics.R\u001b[0;34m(self, line, cell, local_ns)\u001b[0m\n\u001b[1;32m    947\u001b[0m         return_output \u001b[38;5;241m=\u001b[39m \u001b[38;5;28;01mFalse\u001b[39;00m\n\u001b[1;32m    948\u001b[0m \u001b[38;5;28;01melse\u001b[39;00m:\n\u001b[0;32m--> 949\u001b[0m     text_result, result, visible \u001b[38;5;241m=\u001b[39m \u001b[38;5;28;43mself\u001b[39;49m\u001b[38;5;241;43m.\u001b[39;49m\u001b[43meval\u001b[49m\u001b[43m(\u001b[49m\u001b[43mcode\u001b[49m\u001b[43m)\u001b[49m\n\u001b[1;32m    950\u001b[0m     text_output \u001b[38;5;241m+\u001b[39m\u001b[38;5;241m=\u001b[39m text_result\n\u001b[1;32m    951\u001b[0m     \u001b[38;5;28;01mif\u001b[39;00m visible:\n",
      "File \u001b[0;32m~/.pyenv/versions/3.12.7/lib/python3.12/site-packages/rpy2/ipython/rmagic.py:406\u001b[0m, in \u001b[0;36mRMagics.eval\u001b[0;34m(self, code)\u001b[0m\n\u001b[1;32m    398\u001b[0m stack\u001b[38;5;241m.\u001b[39menter_context(\n\u001b[1;32m    399\u001b[0m     obj_in_module(\n\u001b[1;32m    400\u001b[0m         rpy2\u001b[38;5;241m.\u001b[39mrinterface_lib\u001b[38;5;241m.\u001b[39mcallbacks,\n\u001b[1;32m    401\u001b[0m         \u001b[38;5;124m'\u001b[39m\u001b[38;5;124m_WRITECONSOLE_EXCEPTION_LOG\u001b[39m\u001b[38;5;124m'\u001b[39m,\n\u001b[1;32m    402\u001b[0m         \u001b[38;5;124m'\u001b[39m\u001b[38;5;132;01m%s\u001b[39;00m\u001b[38;5;124m'\u001b[39m)\n\u001b[1;32m    403\u001b[0m )\n\u001b[1;32m    404\u001b[0m \u001b[38;5;28;01mtry\u001b[39;00m:\n\u001b[1;32m    405\u001b[0m     \u001b[38;5;66;03m# Need the newline in case the last line in code is a comment.\u001b[39;00m\n\u001b[0;32m--> 406\u001b[0m     r_expr \u001b[38;5;241m=\u001b[39m \u001b[43mri\u001b[49m\u001b[38;5;241;43m.\u001b[39;49m\u001b[43mparse\u001b[49m\u001b[43m(\u001b[49m\u001b[43mcode\u001b[49m\u001b[43m)\u001b[49m\n\u001b[1;32m    407\u001b[0m     value, visible \u001b[38;5;241m=\u001b[39m ri\u001b[38;5;241m.\u001b[39mevalr_expr_with_visible(\n\u001b[1;32m    408\u001b[0m         r_expr\n\u001b[1;32m    409\u001b[0m     )\n\u001b[1;32m    410\u001b[0m \u001b[38;5;28;01mexcept\u001b[39;00m (ri\u001b[38;5;241m.\u001b[39membedded\u001b[38;5;241m.\u001b[39mRRuntimeError, \u001b[38;5;167;01mValueError\u001b[39;00m) \u001b[38;5;28;01mas\u001b[39;00m exception:\n\u001b[1;32m    411\u001b[0m     \u001b[38;5;66;03m# Otherwise next return seems to have copy of error.\u001b[39;00m\n",
      "File \u001b[0;32m~/.pyenv/versions/3.12.7/lib/python3.12/site-packages/rpy2/rinterface_lib/conversion.py:45\u001b[0m, in \u001b[0;36m_cdata_res_to_rinterface.<locals>._\u001b[0;34m(*args, **kwargs)\u001b[0m\n\u001b[1;32m     44\u001b[0m \u001b[38;5;28;01mdef\u001b[39;00m\u001b[38;5;250m \u001b[39m\u001b[38;5;21m_\u001b[39m(\u001b[38;5;241m*\u001b[39margs, \u001b[38;5;241m*\u001b[39m\u001b[38;5;241m*\u001b[39mkwargs):\n\u001b[0;32m---> 45\u001b[0m     cdata \u001b[38;5;241m=\u001b[39m \u001b[43mfunction\u001b[49m\u001b[43m(\u001b[49m\u001b[38;5;241;43m*\u001b[39;49m\u001b[43margs\u001b[49m\u001b[43m,\u001b[49m\u001b[43m \u001b[49m\u001b[38;5;241;43m*\u001b[39;49m\u001b[38;5;241;43m*\u001b[39;49m\u001b[43mkwargs\u001b[49m\u001b[43m)\u001b[49m\n\u001b[1;32m     46\u001b[0m     \u001b[38;5;66;03m# TODO: test cdata is of the expected CType\u001b[39;00m\n\u001b[1;32m     47\u001b[0m     \u001b[38;5;28;01mreturn\u001b[39;00m _cdata_to_rinterface(cdata)\n",
      "File \u001b[0;32m~/.pyenv/versions/3.12.7/lib/python3.12/site-packages/rpy2/rinterface.py:121\u001b[0m, in \u001b[0;36mparse\u001b[0;34m(text, num)\u001b[0m\n\u001b[1;32m    119\u001b[0m robj \u001b[38;5;241m=\u001b[39m StrSexpVector([text])\n\u001b[1;32m    120\u001b[0m \u001b[38;5;28;01mwith\u001b[39;00m memorymanagement\u001b[38;5;241m.\u001b[39mrmemory() \u001b[38;5;28;01mas\u001b[39;00m rmemory:\n\u001b[0;32m--> 121\u001b[0m     res \u001b[38;5;241m=\u001b[39m \u001b[43m_rinterface\u001b[49m\u001b[38;5;241;43m.\u001b[39;49m\u001b[43m_parse\u001b[49m\u001b[43m(\u001b[49m\u001b[43mrobj\u001b[49m\u001b[38;5;241;43m.\u001b[39;49m\u001b[43m__sexp__\u001b[49m\u001b[38;5;241;43m.\u001b[39;49m\u001b[43m_cdata\u001b[49m\u001b[43m,\u001b[49m\u001b[43m \u001b[49m\u001b[43mnum\u001b[49m\u001b[43m,\u001b[49m\u001b[43m \u001b[49m\u001b[43mrmemory\u001b[49m\u001b[43m)\u001b[49m\n\u001b[1;32m    122\u001b[0m \u001b[38;5;28;01mreturn\u001b[39;00m res\n",
      "File \u001b[0;32m~/.pyenv/versions/3.12.7/lib/python3.12/site-packages/rpy2/rinterface_lib/_rinterface_capi.py:725\u001b[0m, in \u001b[0;36m_parse\u001b[0;34m(cdata, num, rmemory)\u001b[0m\n\u001b[1;32m    718\u001b[0m \u001b[38;5;66;03m# TODO: design better handling of possible status:\u001b[39;00m\n\u001b[1;32m    719\u001b[0m \u001b[38;5;66;03m# PARSE_NULL,\u001b[39;00m\n\u001b[1;32m    720\u001b[0m \u001b[38;5;66;03m# PARSE_OK,\u001b[39;00m\n\u001b[1;32m    721\u001b[0m \u001b[38;5;66;03m# PARSE_INCOMPLETE,\u001b[39;00m\n\u001b[1;32m    722\u001b[0m \u001b[38;5;66;03m# PARSE_ERROR,\u001b[39;00m\n\u001b[1;32m    723\u001b[0m \u001b[38;5;66;03m# PARSE_EOF\u001b[39;00m\n\u001b[1;32m    724\u001b[0m \u001b[38;5;28;01mif\u001b[39;00m status[\u001b[38;5;241m0\u001b[39m] \u001b[38;5;241m!=\u001b[39m openrlib\u001b[38;5;241m.\u001b[39mrlib\u001b[38;5;241m.\u001b[39mPARSE_OK:\n\u001b[0;32m--> 725\u001b[0m     \u001b[38;5;28;01mraise\u001b[39;00m RParsingError(\u001b[38;5;124m'\u001b[39m\u001b[38;5;124mParsing status not OK\u001b[39m\u001b[38;5;124m'\u001b[39m,\n\u001b[1;32m    726\u001b[0m                         status\u001b[38;5;241m=\u001b[39mPARSING_STATUS(status[\u001b[38;5;241m0\u001b[39m]))\n\u001b[1;32m    727\u001b[0m \u001b[38;5;28;01mreturn\u001b[39;00m res\n",
      "\u001b[0;31mRParsingError\u001b[0m: Parsing status not OK - PARSING_STATUS.PARSE_ERROR"
     ]
    }
   ],
   "source": [
    "%%R\n",
    "multi_acs <- multi_acs %>%\n",
    "   mutate(\n",
    "        working_mom_estimate = `working-mom-under6yos_estimate` + working-mom-6yosto17yos_estimate - non-working-mom-under6yos_estimate - non-working-mom-6yosto17yos_estimate,\n",
    "        working_women_total_estimate = working-women_estimate - non-working-women_estimate\n",
    "       \n",
    "      )"
   ]
  },
  {
   "cell_type": "code",
   "execution_count": null,
   "id": "32548eb5-e427-43d8-91fd-490f760cf0db",
   "metadata": {},
   "outputs": [],
   "source": []
  }
 ],
 "metadata": {
  "kernelspec": {
   "display_name": "Python 3 (ipykernel)",
   "language": "python",
   "name": "python3"
  },
  "language_info": {
   "codemirror_mode": {
    "name": "ipython",
    "version": 3
   },
   "file_extension": ".py",
   "mimetype": "text/x-python",
   "name": "python",
   "nbconvert_exporter": "python",
   "pygments_lexer": "ipython3",
   "version": "3.12.7"
  }
 },
 "nbformat": 4,
 "nbformat_minor": 5
}
