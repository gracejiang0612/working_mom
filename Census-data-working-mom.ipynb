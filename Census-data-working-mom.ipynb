{
 "cells": [
  {
   "cell_type": "code",
   "execution_count": 1,
   "id": "d3beadb1-a2b1-40f0-9d95-e120af1af8db",
   "metadata": {},
   "outputs": [],
   "source": [
    "%load_ext rpy2.ipython\n",
    "%load_ext autoreload\n",
    "%autoreload 2\n",
    "\n",
    "%matplotlib inline  \n",
    "from matplotlib import rcParams\n",
    "rcParams['figure.figsize'] = (16, 100)\n",
    "\n",
    "import warnings\n",
    "from rpy2.rinterface import RRuntimeWarning\n",
    "warnings.filterwarnings(\"ignore\") # Ignore all warnings\n",
    "# warnings.filterwarnings(\"ignore\", category=RRuntimeWarning) # Show some warnings\n",
    "\n",
    "import pandas as pd\n",
    "import numpy as np\n",
    "import matplotlib.pyplot as plt\n",
    "from IPython.display import display, HTML"
   ]
  },
  {
   "cell_type": "code",
   "execution_count": 3,
   "id": "f1134127-63dc-4400-8266-2e178545e7b3",
   "metadata": {},
   "outputs": [
    {
     "data": {
      "application/javascript": [
       "// Disable auto-scrolling\n",
       "IPython.OutputArea.prototype._should_scroll = function(lines) {\n",
       "    return false;\n",
       "}\n"
      ],
      "text/plain": [
       "<IPython.core.display.Javascript object>"
      ]
     },
     "metadata": {},
     "output_type": "display_data"
    }
   ],
   "source": [
    "%%javascript\n",
    "// Disable auto-scrolling\n",
    "IPython.OutputArea.prototype._should_scroll = function(lines) {\n",
    "    return false;\n",
    "}"
   ]
  },
  {
   "cell_type": "code",
   "execution_count": 4,
   "id": "bee5aa58-39db-458c-8243-ee2d48bea58b",
   "metadata": {},
   "outputs": [
    {
     "name": "stdout",
     "output_type": "stream",
     "text": [
      "── Attaching core tidyverse packages ──────────────────────── tidyverse 2.0.0 ──\n",
      "✔ dplyr     1.1.4     ✔ readr     2.1.5\n",
      "✔ forcats   1.0.0     ✔ stringr   1.5.1\n",
      "✔ ggplot2   3.5.1     ✔ tibble    3.2.1\n",
      "✔ lubridate 1.9.4     ✔ tidyr     1.3.1\n",
      "✔ purrr     1.0.4     \n",
      "── Conflicts ────────────────────────────────────────── tidyverse_conflicts() ──\n",
      "✖ dplyr::filter() masks stats::filter()\n",
      "✖ dplyr::lag()    masks stats::lag()\n",
      "ℹ Use the conflicted package (<http://conflicted.r-lib.org/>) to force all conflicts to become errors\n"
     ]
    },
    {
     "data": {
      "text/plain": [
       "Loading required package: tidyverse\n"
      ]
     },
     "metadata": {},
     "output_type": "display_data"
    }
   ],
   "source": [
    "%%R\n",
    "\n",
    "# My commonly used R imports\n",
    "\n",
    "require('tidyverse')"
   ]
  },
  {
   "cell_type": "code",
   "execution_count": 5,
   "id": "2fce3a1e-74f0-4610-b7c6-b34695397974",
   "metadata": {},
   "outputs": [
    {
     "data": {
      "text/plain": [
       "True"
      ]
     },
     "execution_count": 5,
     "metadata": {},
     "output_type": "execute_result"
    }
   ],
   "source": [
    "import dotenv\n",
    "\n",
    "# Load the environment variables\n",
    "# (loads CENSUS_API_KEY from .env)\n",
    "dotenv.load_dotenv()"
   ]
  },
  {
   "cell_type": "code",
   "execution_count": 12,
   "id": "0b542baf-eb21-46ac-9d72-11fbb82403f8",
   "metadata": {},
   "outputs": [
    {
     "name": "stdout",
     "output_type": "stream",
     "text": [
      "# A tibble: 6 × 6\n",
      "  year  GEOID NAME          variable                    estimate   moe\n",
      "  <chr> <chr> <chr>         <chr>                          <dbl> <dbl>\n",
      "1 1     1     United States working_mom_under6yos        7630279 42339\n",
      "2 1     1     United States non_working_mom_under6yos    2240222 26373\n",
      "3 1     1     United States working_mom_6yosto17yos     19150433 51164\n",
      "4 1     1     United States non_working_mom_6yosto17yos  4461443 39847\n",
      "5 1     1     United States working_women               44442667 82063\n",
      "6 1     1     United States non_working_women            2451225 26495\n"
     ]
    },
    {
     "data": {
      "text/plain": [
       "Getting data from the 2015 1-year ACS\n",
       "The 1-year ACS provides data for geographies with populations of 65,000 and greater.\n",
       "Getting data from the 2016 1-year ACS\n",
       "The 1-year ACS provides data for geographies with populations of 65,000 and greater.\n",
       "Getting data from the 2017 1-year ACS\n",
       "The 1-year ACS provides data for geographies with populations of 65,000 and greater.\n",
       "Getting data from the 2018 1-year ACS\n",
       "The 1-year ACS provides data for geographies with populations of 65,000 and greater.\n",
       "Getting data from the 2019 1-year ACS\n",
       "The 1-year ACS provides data for geographies with populations of 65,000 and greater.\n",
       "Getting data from the 2021 1-year ACS\n",
       "The 1-year ACS provides data for geographies with populations of 65,000 and greater.\n",
       "Getting data from the 2022 1-year ACS\n",
       "The 1-year ACS provides data for geographies with populations of 65,000 and greater.\n",
       "Getting data from the 2023 1-year ACS\n",
       "The 1-year ACS provides data for geographies with populations of 65,000 and greater.\n"
      ]
     },
     "metadata": {},
     "output_type": "display_data"
    }
   ],
   "source": [
    "%%R\n",
    "\n",
    "library(tidycensus)\n",
    "library(tidyverse)\n",
    "\n",
    "# Skip 2020 since regular 1-year ACS data is not available for that year\n",
    "years <- c(2015:2019, 2021:2023)                  \n",
    "vars  <- c(\n",
    "  \"working_mom_under6yos\" = \"B23003_003\",\n",
    "  \"non_working_mom_under6yos\" = \"B23003_009\",\n",
    "  \"working_mom_6yosto17yos\" = \"B23003_017\",\n",
    "  \"non_working_mom_6yosto17yos\" = \"B23003_023\",\n",
    "  \"working_women\" = \"B23003_025\",\n",
    "  \"non_working_women\" = \"B23003_029\"\n",
    ")  \n",
    "\n",
    "# Get variable from ACS\n",
    "multi_acs <- map_dfr(                    # one row-bind per year\n",
    "  years,\n",
    "  ~get_acs(\n",
    "    geography = \"us\",\n",
    "    variables = vars,\n",
    "    year = .x,\n",
    "    survey = \"acs1\",\n",
    "    geometry = FALSE\n",
    "  ),\n",
    "  .id = \"year\"\n",
    ")\n",
    "\n",
    "# Display the resulting data\n",
    "head(multi_acs)"
   ]
  },
  {
   "cell_type": "code",
   "execution_count": 13,
   "id": "ad3a49b1-2816-4cac-bd51-251b9040bf6d",
   "metadata": {},
   "outputs": [
    {
     "name": "stdout",
     "output_type": "stream",
     "text": [
      "# A tibble: 8 × 15\n",
      "  year  GEOID NAME          working_mom_under6yos_estim…¹ non_working_mom_unde…²\n",
      "  <chr> <chr> <chr>                                 <dbl>                  <dbl>\n",
      "1 1     1     United States                       7630279                2240222\n",
      "2 2     1     United States                       7570447                2179535\n",
      "3 3     1     United States                       7510145                2146461\n",
      "4 4     1     United States                       7471116                2090499\n",
      "5 5     1     United States                       7307933                1980176\n",
      "6 6     1     United States                       7173770                1960309\n",
      "7 7     1     United States                       7129347                1893955\n",
      "8 8     1     United States                       7164382                1815925\n",
      "# ℹ abbreviated names: ¹​working_mom_under6yos_estimate,\n",
      "#   ²​non_working_mom_under6yos_estimate\n",
      "# ℹ 10 more variables: working_mom_6yosto17yos_estimate <dbl>,\n",
      "#   non_working_mom_6yosto17yos_estimate <dbl>, working_women_estimate <dbl>,\n",
      "#   non_working_women_estimate <dbl>, working_mom_under6yos_moe <dbl>,\n",
      "#   non_working_mom_under6yos_moe <dbl>, working_mom_6yosto17yos_moe <dbl>,\n",
      "#   non_working_mom_6yosto17yos_moe <dbl>, working_women_moe <dbl>, …\n"
     ]
    }
   ],
   "source": [
    "%%R \n",
    "\n",
    "multi_acs <- multi_acs %>% \n",
    "  # pivot from wide to long\n",
    "  pivot_wider(\n",
    "    names_from=variable, \n",
    "    values_from = c(estimate, moe),\n",
    "    names_glue = \"{variable}_{.value}\"\n",
    "  )\n",
    "\n",
    "multi_acs"
   ]
  },
  {
   "cell_type": "code",
   "execution_count": 14,
   "id": "27ebc14d-038a-4b51-8e20-57875bf14cd9",
   "metadata": {},
   "outputs": [
    {
     "name": "stdout",
     "output_type": "stream",
     "text": [
      " [1] \"year\"                                \n",
      " [2] \"GEOID\"                               \n",
      " [3] \"NAME\"                                \n",
      " [4] \"working_mom_under6yos_estimate\"      \n",
      " [5] \"non_working_mom_under6yos_estimate\"  \n",
      " [6] \"working_mom_6yosto17yos_estimate\"    \n",
      " [7] \"non_working_mom_6yosto17yos_estimate\"\n",
      " [8] \"working_women_estimate\"              \n",
      " [9] \"non_working_women_estimate\"          \n",
      "[10] \"working_mom_under6yos_moe\"           \n",
      "[11] \"non_working_mom_under6yos_moe\"       \n",
      "[12] \"working_mom_6yosto17yos_moe\"         \n",
      "[13] \"non_working_mom_6yosto17yos_moe\"     \n",
      "[14] \"working_women_moe\"                   \n",
      "[15] \"non_working_women_moe\"               \n"
     ]
    }
   ],
   "source": [
    "%%R \n",
    "\n",
    "colnames(multi_acs)"
   ]
  },
  {
   "cell_type": "code",
   "execution_count": 16,
   "id": "7d558ae9-af5c-4762-97ab-6b8ce9936cc4",
   "metadata": {},
   "outputs": [
    {
     "name": "stdout",
     "output_type": "stream",
     "text": [
      "# A tibble: 6 × 17\n",
      "  year  GEOID NAME          working_mom_under6yos_estim…¹ non_working_mom_unde…²\n",
      "  <chr> <chr> <chr>                                 <dbl>                  <dbl>\n",
      "1 1     1     United States                       7630279                2240222\n",
      "2 2     1     United States                       7570447                2179535\n",
      "3 3     1     United States                       7510145                2146461\n",
      "4 4     1     United States                       7471116                2090499\n",
      "5 5     1     United States                       7307933                1980176\n",
      "6 6     1     United States                       7173770                1960309\n",
      "# ℹ abbreviated names: ¹​working_mom_under6yos_estimate,\n",
      "#   ²​non_working_mom_under6yos_estimate\n",
      "# ℹ 12 more variables: working_mom_6yosto17yos_estimate <dbl>,\n",
      "#   non_working_mom_6yosto17yos_estimate <dbl>, working_women_estimate <dbl>,\n",
      "#   non_working_women_estimate <dbl>, working_mom_under6yos_moe <dbl>,\n",
      "#   non_working_mom_under6yos_moe <dbl>, working_mom_6yosto17yos_moe <dbl>,\n",
      "#   non_working_mom_6yosto17yos_moe <dbl>, working_women_moe <dbl>, …\n"
     ]
    }
   ],
   "source": [
    "%%R\n",
    "multi_acs %>%\n",
    "   mutate(\n",
    "        mom_estimate = working_mom_under6yos_estimate + working_mom_6yosto17yos_estimate - non_working_mom_under6yos_estimate - non_working_mom_6yosto17yos_estimate,\n",
    "        working_women_total_estimate = working_women_estimate - non_working_women_estimate\n",
    "      ) %>% \n",
    "    head()"
   ]
  },
  {
   "cell_type": "code",
   "execution_count": 17,
   "id": "32548eb5-e427-43d8-91fd-490f760cf0db",
   "metadata": {},
   "outputs": [],
   "source": [
    "%%R\n",
    "write.csv(multi_acs, \"census_data.csv\", row.names = FALSE)"
   ]
  },
  {
   "cell_type": "code",
   "execution_count": null,
   "id": "61bcb342-f904-44c6-a2d4-d2a69cc5d112",
   "metadata": {},
   "outputs": [],
   "source": []
  }
 ],
 "metadata": {
  "kernelspec": {
   "display_name": "Python 3 (ipykernel)",
   "language": "python",
   "name": "python3"
  },
  "language_info": {
   "codemirror_mode": {
    "name": "ipython",
    "version": 3
   },
   "file_extension": ".py",
   "mimetype": "text/x-python",
   "name": "python",
   "nbconvert_exporter": "python",
   "pygments_lexer": "ipython3",
   "version": "3.12.7"
  }
 },
 "nbformat": 4,
 "nbformat_minor": 5
}
